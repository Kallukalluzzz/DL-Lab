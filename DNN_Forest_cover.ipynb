{
  "nbformat": 4,
  "nbformat_minor": 0,
  "metadata": {
    "colab": {
      "name": "DNN_Forest_cover.ipynb",
      "provenance": [],
      "collapsed_sections": [],
      "authorship_tag": "ABX9TyN/oNEK+9XPUpc2gKoDwUJy",
      "include_colab_link": true
    },
    "kernelspec": {
      "name": "python3",
      "display_name": "Python 3"
    },
    "language_info": {
      "name": "python"
    },
    "accelerator": "GPU"
  },
  "cells": [
    {
      "cell_type": "markdown",
      "metadata": {
        "id": "view-in-github",
        "colab_type": "text"
      },
      "source": [
        "<a href=\"https://colab.research.google.com/github/Kallukalluzzz/DL-Lab/blob/main/DNN_Forest_cover.ipynb\" target=\"_parent\"><img src=\"https://colab.research.google.com/assets/colab-badge.svg\" alt=\"Open In Colab\"/></a>"
      ]
    },
    {
      "cell_type": "code",
      "execution_count": 1,
      "metadata": {
        "id": "0b7ySbY6n70k"
      },
      "outputs": [],
      "source": [
        "import pandas as pd\n",
        "from sklearn.datasets import fetch_covtype"
      ]
    },
    {
      "cell_type": "code",
      "source": [
        "X,y=fetch_covtype(return_X_y=True)\n",
        "y=y-1"
      ],
      "metadata": {
        "id": "sjmYzSvzoIQ-"
      },
      "execution_count": 2,
      "outputs": []
    },
    {
      "cell_type": "code",
      "source": [
        "X.shape"
      ],
      "metadata": {
        "colab": {
          "base_uri": "https://localhost:8080/"
        },
        "id": "0FHIcMcYo2H9",
        "outputId": "1dd82ae9-e9cc-40be-dfa1-d4940d3a05cc"
      },
      "execution_count": 3,
      "outputs": [
        {
          "output_type": "execute_result",
          "data": {
            "text/plain": [
              "(581012, 54)"
            ]
          },
          "metadata": {},
          "execution_count": 3
        }
      ]
    },
    {
      "cell_type": "code",
      "source": [
        "y.shape"
      ],
      "metadata": {
        "colab": {
          "base_uri": "https://localhost:8080/"
        },
        "id": "-LXBUnMUo4SX",
        "outputId": "a09b47ee-f663-4a7e-946f-5ae3ff4dce37"
      },
      "execution_count": 4,
      "outputs": [
        {
          "output_type": "execute_result",
          "data": {
            "text/plain": [
              "(581012,)"
            ]
          },
          "metadata": {},
          "execution_count": 4
        }
      ]
    },
    {
      "cell_type": "code",
      "source": [
        "print(set(y))\n"
      ],
      "metadata": {
        "colab": {
          "base_uri": "https://localhost:8080/"
        },
        "id": "b44K45xTugzq",
        "outputId": "ffed2898-bf9b-449f-cf64-b2a6d6efa4c3"
      },
      "execution_count": 5,
      "outputs": [
        {
          "output_type": "stream",
          "name": "stdout",
          "text": [
            "{0, 1, 2, 3, 4, 5, 6}\n"
          ]
        }
      ]
    },
    {
      "cell_type": "code",
      "source": [
        "from sklearn.model_selection import train_test_split\n",
        "X_train,X_test,y_train,y_test=train_test_split(X,y,test_size=0.2)"
      ],
      "metadata": {
        "id": "LfRFfTiOoxTw"
      },
      "execution_count": 6,
      "outputs": []
    },
    {
      "cell_type": "code",
      "source": [
        "import tensorflow as tf\n",
        "from tensorflow import keras"
      ],
      "metadata": {
        "id": "xveMpzI-pIhL"
      },
      "execution_count": 7,
      "outputs": []
    },
    {
      "cell_type": "code",
      "source": [
        "ML=keras.models.Sequential()"
      ],
      "metadata": {
        "id": "dU7IWRVnph0n"
      },
      "execution_count": 8,
      "outputs": []
    },
    {
      "cell_type": "code",
      "source": [
        "ML.add(keras.layers.Dense(units=50,activation='relu',input_dim=X.shape[1]))"
      ],
      "metadata": {
        "id": "oQygfcVIpkbO"
      },
      "execution_count": 9,
      "outputs": []
    },
    {
      "cell_type": "code",
      "source": [
        "ML.add(keras.layers.Dense(units=60,activation='relu'))\n",
        "ML.add(keras.layers.Dense(units=100,activation='relu'))\n",
        "ML.add(keras.layers.Dense(units=100,activation='relu'))"
      ],
      "metadata": {
        "id": "FGkuTGAFqS4i"
      },
      "execution_count": 15,
      "outputs": []
    },
    {
      "cell_type": "code",
      "source": [
        "ML.add(keras.layers.Dense(units=7,activation='softmax'))"
      ],
      "metadata": {
        "id": "WwvRNx3xpm5d"
      },
      "execution_count": 16,
      "outputs": []
    },
    {
      "cell_type": "code",
      "source": [
        "ML.summary()"
      ],
      "metadata": {
        "colab": {
          "base_uri": "https://localhost:8080/"
        },
        "id": "v0ngzclJppq2",
        "outputId": "2bb55a04-68c5-415b-f590-59ce0df8916d"
      },
      "execution_count": 17,
      "outputs": [
        {
          "output_type": "stream",
          "name": "stdout",
          "text": [
            "Model: \"sequential\"\n",
            "_________________________________________________________________\n",
            " Layer (type)                Output Shape              Param #   \n",
            "=================================================================\n",
            " dense (Dense)               (None, 50)                2750      \n",
            "                                                                 \n",
            " dense_1 (Dense)             (None, 60)                3060      \n",
            "                                                                 \n",
            " dense_2 (Dense)             (None, 85)                5185      \n",
            "                                                                 \n",
            " dense_3 (Dense)             (None, 100)               8600      \n",
            "                                                                 \n",
            " dense_4 (Dense)             (None, 7)                 707       \n",
            "                                                                 \n",
            " dense_5 (Dense)             (None, 60)                480       \n",
            "                                                                 \n",
            " dense_6 (Dense)             (None, 100)               6100      \n",
            "                                                                 \n",
            " dense_7 (Dense)             (None, 100)               10100     \n",
            "                                                                 \n",
            " dense_8 (Dense)             (None, 7)                 707       \n",
            "                                                                 \n",
            "=================================================================\n",
            "Total params: 37,689\n",
            "Trainable params: 37,689\n",
            "Non-trainable params: 0\n",
            "_________________________________________________________________\n"
          ]
        }
      ]
    },
    {
      "cell_type": "code",
      "source": [
        "opt = tf.keras.optimizers.Adam(0.001)\n",
        "ML.compile(loss='sparse_categorical_crossentropy',optimizer=opt,metrics=['accuracy'])"
      ],
      "metadata": {
        "id": "LNOwywWKps7X"
      },
      "execution_count": 18,
      "outputs": []
    },
    {
      "cell_type": "code",
      "source": [
        "ML.fit(X_train,y_train,epochs=50, batch_size=1000)"
      ],
      "metadata": {
        "colab": {
          "base_uri": "https://localhost:8080/"
        },
        "id": "Xxn7yNl6pyXE",
        "outputId": "116d8fc7-e02b-4cbd-8fec-47b0e1e09d51"
      },
      "execution_count": 19,
      "outputs": [
        {
          "output_type": "stream",
          "name": "stdout",
          "text": [
            "Epoch 1/50\n",
            "465/465 [==============================] - 2s 3ms/step - loss: 0.5602 - accuracy: 0.7916\n",
            "Epoch 2/50\n",
            "465/465 [==============================] - 2s 4ms/step - loss: 0.3948 - accuracy: 0.8410\n",
            "Epoch 3/50\n",
            "465/465 [==============================] - 2s 3ms/step - loss: 0.3801 - accuracy: 0.8454\n",
            "Epoch 4/50\n",
            "465/465 [==============================] - 2s 3ms/step - loss: 0.3805 - accuracy: 0.8438\n",
            "Epoch 5/50\n",
            "465/465 [==============================] - 2s 3ms/step - loss: 0.3710 - accuracy: 0.8477\n",
            "Epoch 6/50\n",
            "465/465 [==============================] - 2s 3ms/step - loss: 0.3649 - accuracy: 0.8499\n",
            "Epoch 7/50\n",
            "465/465 [==============================] - 2s 3ms/step - loss: 0.3650 - accuracy: 0.8497\n",
            "Epoch 8/50\n",
            "465/465 [==============================] - 2s 3ms/step - loss: 0.3619 - accuracy: 0.8510\n",
            "Epoch 9/50\n",
            "465/465 [==============================] - 2s 3ms/step - loss: 0.3571 - accuracy: 0.8532\n",
            "Epoch 10/50\n",
            "465/465 [==============================] - 2s 4ms/step - loss: 0.3531 - accuracy: 0.8549\n",
            "Epoch 11/50\n",
            "465/465 [==============================] - 2s 3ms/step - loss: 0.3540 - accuracy: 0.8544\n",
            "Epoch 12/50\n",
            "465/465 [==============================] - 2s 3ms/step - loss: 0.3503 - accuracy: 0.8555\n",
            "Epoch 13/50\n",
            "465/465 [==============================] - 2s 4ms/step - loss: 0.3468 - accuracy: 0.8571\n",
            "Epoch 14/50\n",
            "465/465 [==============================] - 2s 3ms/step - loss: 0.3461 - accuracy: 0.8572\n",
            "Epoch 15/50\n",
            "465/465 [==============================] - 2s 4ms/step - loss: 0.3441 - accuracy: 0.8581\n",
            "Epoch 16/50\n",
            "465/465 [==============================] - 2s 4ms/step - loss: 0.3414 - accuracy: 0.8597\n",
            "Epoch 17/50\n",
            "465/465 [==============================] - 2s 3ms/step - loss: 0.3409 - accuracy: 0.8598\n",
            "Epoch 18/50\n",
            "465/465 [==============================] - 2s 3ms/step - loss: 0.3393 - accuracy: 0.8605\n",
            "Epoch 19/50\n",
            "465/465 [==============================] - 2s 3ms/step - loss: 0.3386 - accuracy: 0.8603\n",
            "Epoch 20/50\n",
            "465/465 [==============================] - 2s 4ms/step - loss: 0.3327 - accuracy: 0.8633\n",
            "Epoch 21/50\n",
            "465/465 [==============================] - 2s 4ms/step - loss: 0.3334 - accuracy: 0.8630\n",
            "Epoch 22/50\n",
            "465/465 [==============================] - 2s 4ms/step - loss: 0.3320 - accuracy: 0.8641\n",
            "Epoch 23/50\n",
            "465/465 [==============================] - 2s 4ms/step - loss: 0.3292 - accuracy: 0.8648\n",
            "Epoch 24/50\n",
            "465/465 [==============================] - 2s 4ms/step - loss: 0.3309 - accuracy: 0.8636\n",
            "Epoch 25/50\n",
            "465/465 [==============================] - 2s 3ms/step - loss: 0.3268 - accuracy: 0.8661\n",
            "Epoch 26/50\n",
            "465/465 [==============================] - 2s 4ms/step - loss: 0.3284 - accuracy: 0.8651\n",
            "Epoch 27/50\n",
            "465/465 [==============================] - 2s 3ms/step - loss: 0.3216 - accuracy: 0.8682\n",
            "Epoch 28/50\n",
            "465/465 [==============================] - 2s 3ms/step - loss: 0.3212 - accuracy: 0.8682\n",
            "Epoch 29/50\n",
            "465/465 [==============================] - 2s 3ms/step - loss: 0.3247 - accuracy: 0.8666\n",
            "Epoch 30/50\n",
            "465/465 [==============================] - 2s 3ms/step - loss: 0.3220 - accuracy: 0.8676\n",
            "Epoch 31/50\n",
            "465/465 [==============================] - 2s 3ms/step - loss: 0.3177 - accuracy: 0.8699\n",
            "Epoch 32/50\n",
            "465/465 [==============================] - 2s 3ms/step - loss: 0.3172 - accuracy: 0.8704\n",
            "Epoch 33/50\n",
            "465/465 [==============================] - 2s 4ms/step - loss: 0.3164 - accuracy: 0.8703\n",
            "Epoch 34/50\n",
            "465/465 [==============================] - 2s 4ms/step - loss: 0.3161 - accuracy: 0.8703\n",
            "Epoch 35/50\n",
            "465/465 [==============================] - 2s 3ms/step - loss: 0.3111 - accuracy: 0.8730\n",
            "Epoch 36/50\n",
            "465/465 [==============================] - 2s 3ms/step - loss: 0.3118 - accuracy: 0.8728\n",
            "Epoch 37/50\n",
            "465/465 [==============================] - 2s 3ms/step - loss: 0.3111 - accuracy: 0.8730\n",
            "Epoch 38/50\n",
            "465/465 [==============================] - 2s 4ms/step - loss: 0.3101 - accuracy: 0.8731\n",
            "Epoch 39/50\n",
            "465/465 [==============================] - 2s 4ms/step - loss: 0.3076 - accuracy: 0.8741\n",
            "Epoch 40/50\n",
            "465/465 [==============================] - 2s 4ms/step - loss: 0.3079 - accuracy: 0.8739\n",
            "Epoch 41/50\n",
            "465/465 [==============================] - 2s 4ms/step - loss: 0.3024 - accuracy: 0.8766\n",
            "Epoch 42/50\n",
            "465/465 [==============================] - 2s 4ms/step - loss: 0.3081 - accuracy: 0.8737\n",
            "Epoch 43/50\n",
            "465/465 [==============================] - 2s 3ms/step - loss: 0.3052 - accuracy: 0.8752\n",
            "Epoch 44/50\n",
            "465/465 [==============================] - 2s 4ms/step - loss: 0.3031 - accuracy: 0.8765\n",
            "Epoch 45/50\n",
            "465/465 [==============================] - 2s 3ms/step - loss: 0.3019 - accuracy: 0.8772\n",
            "Epoch 46/50\n",
            "465/465 [==============================] - 2s 3ms/step - loss: 0.3007 - accuracy: 0.8777\n",
            "Epoch 47/50\n",
            "465/465 [==============================] - 2s 4ms/step - loss: 0.2992 - accuracy: 0.8778\n",
            "Epoch 48/50\n",
            "465/465 [==============================] - 2s 3ms/step - loss: 0.2992 - accuracy: 0.8777\n",
            "Epoch 49/50\n",
            "465/465 [==============================] - 2s 3ms/step - loss: 0.2994 - accuracy: 0.8779\n",
            "Epoch 50/50\n",
            "465/465 [==============================] - 2s 4ms/step - loss: 0.2989 - accuracy: 0.8783\n"
          ]
        },
        {
          "output_type": "execute_result",
          "data": {
            "text/plain": [
              "<keras.callbacks.History at 0x7f27d1c343d0>"
            ]
          },
          "metadata": {},
          "execution_count": 19
        }
      ]
    },
    {
      "cell_type": "code",
      "source": [
        "test_loss,test_accuracy=ML.evaluate(X_test,y_test)"
      ],
      "metadata": {
        "colab": {
          "base_uri": "https://localhost:8080/"
        },
        "id": "GFumD3Gnzu2O",
        "outputId": "d0fb688d-6e24-4fcf-e425-b2159733cb64"
      },
      "execution_count": 21,
      "outputs": [
        {
          "output_type": "stream",
          "name": "stdout",
          "text": [
            "3632/3632 [==============================] - 13s 4ms/step - loss: 0.3222 - accuracy: 0.8681\n"
          ]
        }
      ]
    },
    {
      "cell_type": "code",
      "source": [
        "print(test_loss,test_accuracy)"
      ],
      "metadata": {
        "colab": {
          "base_uri": "https://localhost:8080/"
        },
        "id": "dd3NgMPt0Aib",
        "outputId": "115f83a4-4cf6-4df9-b200-fd6ab4e67477"
      },
      "execution_count": 22,
      "outputs": [
        {
          "output_type": "stream",
          "name": "stdout",
          "text": [
            "0.3221713900566101 0.8681273460388184\n"
          ]
        }
      ]
    }
  ]
}