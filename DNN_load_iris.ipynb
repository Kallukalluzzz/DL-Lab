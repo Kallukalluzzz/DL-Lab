{
  "nbformat": 4,
  "nbformat_minor": 0,
  "metadata": {
    "colab": {
      "name": "DNN_load_iris.ipynb",
      "provenance": [],
      "authorship_tag": "ABX9TyN0KWs5oRTLftl7+fCkfhMk",
      "include_colab_link": true
    },
    "kernelspec": {
      "name": "python3",
      "display_name": "Python 3"
    },
    "language_info": {
      "name": "python"
    }
  },
  "cells": [
    {
      "cell_type": "markdown",
      "metadata": {
        "id": "view-in-github",
        "colab_type": "text"
      },
      "source": [
        "<a href=\"https://colab.research.google.com/github/Kallukalluzzz/DL-Lab/blob/main/DNN_load_iris.ipynb\" target=\"_parent\"><img src=\"https://colab.research.google.com/assets/colab-badge.svg\" alt=\"Open In Colab\"/></a>"
      ]
    },
    {
      "cell_type": "code",
      "execution_count": 1,
      "metadata": {
        "id": "Lr-gvmOAhSf4"
      },
      "outputs": [],
      "source": [
        "from sklearn.datasets import load_iris\n",
        "iris=load_iris()\n",
        "x=iris.data\n",
        "y=iris.target"
      ]
    },
    {
      "cell_type": "code",
      "source": [
        "x"
      ],
      "metadata": {
        "colab": {
          "base_uri": "https://localhost:8080/"
        },
        "id": "JNq7yWrYmh1v",
        "outputId": "9662c8dd-15ac-42ab-8bce-59e8e0078bcc"
      },
      "execution_count": 2,
      "outputs": [
        {
          "output_type": "execute_result",
          "data": {
            "text/plain": [
              "array([[5.1, 3.5, 1.4, 0.2],\n",
              "       [4.9, 3. , 1.4, 0.2],\n",
              "       [4.7, 3.2, 1.3, 0.2],\n",
              "       [4.6, 3.1, 1.5, 0.2],\n",
              "       [5. , 3.6, 1.4, 0.2],\n",
              "       [5.4, 3.9, 1.7, 0.4],\n",
              "       [4.6, 3.4, 1.4, 0.3],\n",
              "       [5. , 3.4, 1.5, 0.2],\n",
              "       [4.4, 2.9, 1.4, 0.2],\n",
              "       [4.9, 3.1, 1.5, 0.1],\n",
              "       [5.4, 3.7, 1.5, 0.2],\n",
              "       [4.8, 3.4, 1.6, 0.2],\n",
              "       [4.8, 3. , 1.4, 0.1],\n",
              "       [4.3, 3. , 1.1, 0.1],\n",
              "       [5.8, 4. , 1.2, 0.2],\n",
              "       [5.7, 4.4, 1.5, 0.4],\n",
              "       [5.4, 3.9, 1.3, 0.4],\n",
              "       [5.1, 3.5, 1.4, 0.3],\n",
              "       [5.7, 3.8, 1.7, 0.3],\n",
              "       [5.1, 3.8, 1.5, 0.3],\n",
              "       [5.4, 3.4, 1.7, 0.2],\n",
              "       [5.1, 3.7, 1.5, 0.4],\n",
              "       [4.6, 3.6, 1. , 0.2],\n",
              "       [5.1, 3.3, 1.7, 0.5],\n",
              "       [4.8, 3.4, 1.9, 0.2],\n",
              "       [5. , 3. , 1.6, 0.2],\n",
              "       [5. , 3.4, 1.6, 0.4],\n",
              "       [5.2, 3.5, 1.5, 0.2],\n",
              "       [5.2, 3.4, 1.4, 0.2],\n",
              "       [4.7, 3.2, 1.6, 0.2],\n",
              "       [4.8, 3.1, 1.6, 0.2],\n",
              "       [5.4, 3.4, 1.5, 0.4],\n",
              "       [5.2, 4.1, 1.5, 0.1],\n",
              "       [5.5, 4.2, 1.4, 0.2],\n",
              "       [4.9, 3.1, 1.5, 0.2],\n",
              "       [5. , 3.2, 1.2, 0.2],\n",
              "       [5.5, 3.5, 1.3, 0.2],\n",
              "       [4.9, 3.6, 1.4, 0.1],\n",
              "       [4.4, 3. , 1.3, 0.2],\n",
              "       [5.1, 3.4, 1.5, 0.2],\n",
              "       [5. , 3.5, 1.3, 0.3],\n",
              "       [4.5, 2.3, 1.3, 0.3],\n",
              "       [4.4, 3.2, 1.3, 0.2],\n",
              "       [5. , 3.5, 1.6, 0.6],\n",
              "       [5.1, 3.8, 1.9, 0.4],\n",
              "       [4.8, 3. , 1.4, 0.3],\n",
              "       [5.1, 3.8, 1.6, 0.2],\n",
              "       [4.6, 3.2, 1.4, 0.2],\n",
              "       [5.3, 3.7, 1.5, 0.2],\n",
              "       [5. , 3.3, 1.4, 0.2],\n",
              "       [7. , 3.2, 4.7, 1.4],\n",
              "       [6.4, 3.2, 4.5, 1.5],\n",
              "       [6.9, 3.1, 4.9, 1.5],\n",
              "       [5.5, 2.3, 4. , 1.3],\n",
              "       [6.5, 2.8, 4.6, 1.5],\n",
              "       [5.7, 2.8, 4.5, 1.3],\n",
              "       [6.3, 3.3, 4.7, 1.6],\n",
              "       [4.9, 2.4, 3.3, 1. ],\n",
              "       [6.6, 2.9, 4.6, 1.3],\n",
              "       [5.2, 2.7, 3.9, 1.4],\n",
              "       [5. , 2. , 3.5, 1. ],\n",
              "       [5.9, 3. , 4.2, 1.5],\n",
              "       [6. , 2.2, 4. , 1. ],\n",
              "       [6.1, 2.9, 4.7, 1.4],\n",
              "       [5.6, 2.9, 3.6, 1.3],\n",
              "       [6.7, 3.1, 4.4, 1.4],\n",
              "       [5.6, 3. , 4.5, 1.5],\n",
              "       [5.8, 2.7, 4.1, 1. ],\n",
              "       [6.2, 2.2, 4.5, 1.5],\n",
              "       [5.6, 2.5, 3.9, 1.1],\n",
              "       [5.9, 3.2, 4.8, 1.8],\n",
              "       [6.1, 2.8, 4. , 1.3],\n",
              "       [6.3, 2.5, 4.9, 1.5],\n",
              "       [6.1, 2.8, 4.7, 1.2],\n",
              "       [6.4, 2.9, 4.3, 1.3],\n",
              "       [6.6, 3. , 4.4, 1.4],\n",
              "       [6.8, 2.8, 4.8, 1.4],\n",
              "       [6.7, 3. , 5. , 1.7],\n",
              "       [6. , 2.9, 4.5, 1.5],\n",
              "       [5.7, 2.6, 3.5, 1. ],\n",
              "       [5.5, 2.4, 3.8, 1.1],\n",
              "       [5.5, 2.4, 3.7, 1. ],\n",
              "       [5.8, 2.7, 3.9, 1.2],\n",
              "       [6. , 2.7, 5.1, 1.6],\n",
              "       [5.4, 3. , 4.5, 1.5],\n",
              "       [6. , 3.4, 4.5, 1.6],\n",
              "       [6.7, 3.1, 4.7, 1.5],\n",
              "       [6.3, 2.3, 4.4, 1.3],\n",
              "       [5.6, 3. , 4.1, 1.3],\n",
              "       [5.5, 2.5, 4. , 1.3],\n",
              "       [5.5, 2.6, 4.4, 1.2],\n",
              "       [6.1, 3. , 4.6, 1.4],\n",
              "       [5.8, 2.6, 4. , 1.2],\n",
              "       [5. , 2.3, 3.3, 1. ],\n",
              "       [5.6, 2.7, 4.2, 1.3],\n",
              "       [5.7, 3. , 4.2, 1.2],\n",
              "       [5.7, 2.9, 4.2, 1.3],\n",
              "       [6.2, 2.9, 4.3, 1.3],\n",
              "       [5.1, 2.5, 3. , 1.1],\n",
              "       [5.7, 2.8, 4.1, 1.3],\n",
              "       [6.3, 3.3, 6. , 2.5],\n",
              "       [5.8, 2.7, 5.1, 1.9],\n",
              "       [7.1, 3. , 5.9, 2.1],\n",
              "       [6.3, 2.9, 5.6, 1.8],\n",
              "       [6.5, 3. , 5.8, 2.2],\n",
              "       [7.6, 3. , 6.6, 2.1],\n",
              "       [4.9, 2.5, 4.5, 1.7],\n",
              "       [7.3, 2.9, 6.3, 1.8],\n",
              "       [6.7, 2.5, 5.8, 1.8],\n",
              "       [7.2, 3.6, 6.1, 2.5],\n",
              "       [6.5, 3.2, 5.1, 2. ],\n",
              "       [6.4, 2.7, 5.3, 1.9],\n",
              "       [6.8, 3. , 5.5, 2.1],\n",
              "       [5.7, 2.5, 5. , 2. ],\n",
              "       [5.8, 2.8, 5.1, 2.4],\n",
              "       [6.4, 3.2, 5.3, 2.3],\n",
              "       [6.5, 3. , 5.5, 1.8],\n",
              "       [7.7, 3.8, 6.7, 2.2],\n",
              "       [7.7, 2.6, 6.9, 2.3],\n",
              "       [6. , 2.2, 5. , 1.5],\n",
              "       [6.9, 3.2, 5.7, 2.3],\n",
              "       [5.6, 2.8, 4.9, 2. ],\n",
              "       [7.7, 2.8, 6.7, 2. ],\n",
              "       [6.3, 2.7, 4.9, 1.8],\n",
              "       [6.7, 3.3, 5.7, 2.1],\n",
              "       [7.2, 3.2, 6. , 1.8],\n",
              "       [6.2, 2.8, 4.8, 1.8],\n",
              "       [6.1, 3. , 4.9, 1.8],\n",
              "       [6.4, 2.8, 5.6, 2.1],\n",
              "       [7.2, 3. , 5.8, 1.6],\n",
              "       [7.4, 2.8, 6.1, 1.9],\n",
              "       [7.9, 3.8, 6.4, 2. ],\n",
              "       [6.4, 2.8, 5.6, 2.2],\n",
              "       [6.3, 2.8, 5.1, 1.5],\n",
              "       [6.1, 2.6, 5.6, 1.4],\n",
              "       [7.7, 3. , 6.1, 2.3],\n",
              "       [6.3, 3.4, 5.6, 2.4],\n",
              "       [6.4, 3.1, 5.5, 1.8],\n",
              "       [6. , 3. , 4.8, 1.8],\n",
              "       [6.9, 3.1, 5.4, 2.1],\n",
              "       [6.7, 3.1, 5.6, 2.4],\n",
              "       [6.9, 3.1, 5.1, 2.3],\n",
              "       [5.8, 2.7, 5.1, 1.9],\n",
              "       [6.8, 3.2, 5.9, 2.3],\n",
              "       [6.7, 3.3, 5.7, 2.5],\n",
              "       [6.7, 3. , 5.2, 2.3],\n",
              "       [6.3, 2.5, 5. , 1.9],\n",
              "       [6.5, 3. , 5.2, 2. ],\n",
              "       [6.2, 3.4, 5.4, 2.3],\n",
              "       [5.9, 3. , 5.1, 1.8]])"
            ]
          },
          "metadata": {},
          "execution_count": 2
        }
      ]
    },
    {
      "cell_type": "code",
      "source": [
        "y"
      ],
      "metadata": {
        "colab": {
          "base_uri": "https://localhost:8080/"
        },
        "id": "165TRddNmjJI",
        "outputId": "79a27b51-75b3-4102-8f42-1e70597d9dca"
      },
      "execution_count": 3,
      "outputs": [
        {
          "output_type": "execute_result",
          "data": {
            "text/plain": [
              "array([0, 0, 0, 0, 0, 0, 0, 0, 0, 0, 0, 0, 0, 0, 0, 0, 0, 0, 0, 0, 0, 0,\n",
              "       0, 0, 0, 0, 0, 0, 0, 0, 0, 0, 0, 0, 0, 0, 0, 0, 0, 0, 0, 0, 0, 0,\n",
              "       0, 0, 0, 0, 0, 0, 1, 1, 1, 1, 1, 1, 1, 1, 1, 1, 1, 1, 1, 1, 1, 1,\n",
              "       1, 1, 1, 1, 1, 1, 1, 1, 1, 1, 1, 1, 1, 1, 1, 1, 1, 1, 1, 1, 1, 1,\n",
              "       1, 1, 1, 1, 1, 1, 1, 1, 1, 1, 1, 1, 2, 2, 2, 2, 2, 2, 2, 2, 2, 2,\n",
              "       2, 2, 2, 2, 2, 2, 2, 2, 2, 2, 2, 2, 2, 2, 2, 2, 2, 2, 2, 2, 2, 2,\n",
              "       2, 2, 2, 2, 2, 2, 2, 2, 2, 2, 2, 2, 2, 2, 2, 2, 2, 2])"
            ]
          },
          "metadata": {},
          "execution_count": 3
        }
      ]
    },
    {
      "cell_type": "code",
      "source": [
        "from sklearn.model_selection import train_test_split\n",
        "x_train,x_test,y_train,y_test=train_test_split(x,y,test_size=0.2)"
      ],
      "metadata": {
        "id": "NmFYbLtommG-"
      },
      "execution_count": 4,
      "outputs": []
    },
    {
      "cell_type": "code",
      "source": [
        "import tensorflow as tf\n",
        "from tensorflow import keras"
      ],
      "metadata": {
        "id": "e-tRhPTanC-p"
      },
      "execution_count": 5,
      "outputs": []
    },
    {
      "cell_type": "code",
      "source": [
        "ML=keras.models.Sequential()"
      ],
      "metadata": {
        "id": "OHLiKufCnLUX"
      },
      "execution_count": 6,
      "outputs": []
    },
    {
      "cell_type": "code",
      "source": [
        "ML.add(keras.layers.Dense(units=5,activation='relu',input_dim=4))\n",
        "ML.add(keras.layers.BatchNormalization())\n",
        "ML.add(keras.layers.Dense(units=5,activation='relu'))\n",
        "ML.add(keras.layers.Dropout(0.25))"
      ],
      "metadata": {
        "id": "scDFpF6knQ0d"
      },
      "execution_count": 8,
      "outputs": []
    },
    {
      "cell_type": "code",
      "source": [
        "ML.add(keras.layers.Dense(units=3,activation='sigmoid'))"
      ],
      "metadata": {
        "id": "KesP2tvuns1o"
      },
      "execution_count": 9,
      "outputs": []
    },
    {
      "cell_type": "code",
      "source": [
        "ML.summary()"
      ],
      "metadata": {
        "colab": {
          "base_uri": "https://localhost:8080/"
        },
        "id": "kgRNRTC9n0dw",
        "outputId": "d6eee9b8-66ed-48f9-9a1e-291bc8063663"
      },
      "execution_count": 10,
      "outputs": [
        {
          "output_type": "stream",
          "name": "stdout",
          "text": [
            "Model: \"sequential\"\n",
            "_________________________________________________________________\n",
            " Layer (type)                Output Shape              Param #   \n",
            "=================================================================\n",
            " dense (Dense)               (None, 5)                 25        \n",
            "                                                                 \n",
            " batch_normalization (BatchN  (None, 5)                20        \n",
            " ormalization)                                                   \n",
            "                                                                 \n",
            " dense_1 (Dense)             (None, 5)                 30        \n",
            "                                                                 \n",
            " dense_2 (Dense)             (None, 5)                 30        \n",
            "                                                                 \n",
            " batch_normalization_1 (Batc  (None, 5)                20        \n",
            " hNormalization)                                                 \n",
            "                                                                 \n",
            " dense_3 (Dense)             (None, 5)                 30        \n",
            "                                                                 \n",
            " dropout (Dropout)           (None, 5)                 0         \n",
            "                                                                 \n",
            " dense_4 (Dense)             (None, 3)                 18        \n",
            "                                                                 \n",
            "=================================================================\n",
            "Total params: 173\n",
            "Trainable params: 153\n",
            "Non-trainable params: 20\n",
            "_________________________________________________________________\n"
          ]
        }
      ]
    },
    {
      "cell_type": "code",
      "source": [
        "opt = tf.keras.optimizers.Adam(0.1)\n",
        "ML.compile(loss='sparse_categorical_crossentropy',optimizer=opt,metrics=['accuracy'])"
      ],
      "metadata": {
        "id": "wiEtRuB6n7Ij"
      },
      "execution_count": 11,
      "outputs": []
    },
    {
      "cell_type": "code",
      "source": [
        "callbacks = keras.callbacks.EarlyStopping(monitor='loss',patience=10, restore_best_weights= True)\n",
        "checkpoints = keras.callbacks.ModelCheckpoint(\"/content/dnn.h5\",monitor='val_loss')"
      ],
      "metadata": {
        "id": "55QC1TgHbjz8"
      },
      "execution_count": 27,
      "outputs": []
    },
    {
      "cell_type": "code",
      "source": [
        "ML.fit(x_train,y_train,epochs=50,callbacks=[es,checkpoints])"
      ],
      "metadata": {
        "colab": {
          "base_uri": "https://localhost:8080/"
        },
        "id": "HKyjIPGqoiWr",
        "outputId": "4f91a9aa-5b20-47c7-ff40-a641b88c8ed9"
      },
      "execution_count": 28,
      "outputs": [
        {
          "output_type": "stream",
          "name": "stdout",
          "text": [
            "Epoch 1/50\n",
            "4/4 [==============================] - 1s 17ms/step - loss: 0.7211 - accuracy: 0.6583\n",
            "Epoch 2/50\n",
            "4/4 [==============================] - 0s 20ms/step - loss: 0.5665 - accuracy: 0.7583\n",
            "Epoch 3/50\n",
            "4/4 [==============================] - 0s 17ms/step - loss: 0.5836 - accuracy: 0.7167\n",
            "Epoch 4/50\n",
            "4/4 [==============================] - 0s 19ms/step - loss: 0.4428 - accuracy: 0.7833\n",
            "Epoch 5/50\n",
            "4/4 [==============================] - 0s 17ms/step - loss: 0.4216 - accuracy: 0.7500\n",
            "Epoch 6/50\n",
            "4/4 [==============================] - 0s 19ms/step - loss: 0.3827 - accuracy: 0.8250\n",
            "Epoch 7/50\n",
            "4/4 [==============================] - 0s 17ms/step - loss: 0.5038 - accuracy: 0.7833\n",
            "Epoch 8/50\n",
            "4/4 [==============================] - 0s 16ms/step - loss: 0.5333 - accuracy: 0.7167\n",
            "Epoch 9/50\n",
            "4/4 [==============================] - 0s 19ms/step - loss: 0.3233 - accuracy: 0.8417\n",
            "Epoch 10/50\n",
            "4/4 [==============================] - 0s 16ms/step - loss: 0.4169 - accuracy: 0.7833\n",
            "Epoch 11/50\n",
            "4/4 [==============================] - 0s 17ms/step - loss: 0.3370 - accuracy: 0.8667\n",
            "Epoch 12/50\n",
            "4/4 [==============================] - 0s 18ms/step - loss: 0.5083 - accuracy: 0.8333\n",
            "Epoch 13/50\n",
            "4/4 [==============================] - 0s 22ms/step - loss: 0.3823 - accuracy: 0.8000\n",
            "Epoch 14/50\n",
            "4/4 [==============================] - 0s 16ms/step - loss: 0.3305 - accuracy: 0.8750\n",
            "Epoch 15/50\n",
            "4/4 [==============================] - 0s 16ms/step - loss: 0.2759 - accuracy: 0.8917\n",
            "Epoch 16/50\n",
            "4/4 [==============================] - 0s 19ms/step - loss: 0.2810 - accuracy: 0.8750\n",
            "Epoch 17/50\n",
            "4/4 [==============================] - 0s 16ms/step - loss: 0.4265 - accuracy: 0.8000\n",
            "Epoch 18/50\n",
            "4/4 [==============================] - 0s 16ms/step - loss: 0.3695 - accuracy: 0.7917\n",
            "Epoch 19/50\n",
            "4/4 [==============================] - 0s 15ms/step - loss: 0.3558 - accuracy: 0.8000\n",
            "Epoch 20/50\n",
            "4/4 [==============================] - 0s 15ms/step - loss: 0.3687 - accuracy: 0.7917\n",
            "Epoch 21/50\n",
            "4/4 [==============================] - 0s 16ms/step - loss: 0.3504 - accuracy: 0.8083\n",
            "Epoch 22/50\n",
            "4/4 [==============================] - 0s 17ms/step - loss: 0.3284 - accuracy: 0.8250\n",
            "Epoch 23/50\n",
            "4/4 [==============================] - 0s 17ms/step - loss: 0.3594 - accuracy: 0.7917\n",
            "Epoch 24/50\n",
            "4/4 [==============================] - 0s 17ms/step - loss: 0.3706 - accuracy: 0.8167\n",
            "Epoch 25/50\n",
            "4/4 [==============================] - 0s 15ms/step - loss: 0.2550 - accuracy: 0.8500\n",
            "Epoch 26/50\n",
            "4/4 [==============================] - 0s 20ms/step - loss: 0.3204 - accuracy: 0.8167\n",
            "Epoch 27/50\n",
            "4/4 [==============================] - 0s 15ms/step - loss: 0.3279 - accuracy: 0.8000\n",
            "Epoch 28/50\n",
            "4/4 [==============================] - 0s 16ms/step - loss: 0.2597 - accuracy: 0.8833\n",
            "Epoch 29/50\n",
            "4/4 [==============================] - 0s 16ms/step - loss: 0.2350 - accuracy: 0.8667\n",
            "Epoch 30/50\n",
            "4/4 [==============================] - 0s 14ms/step - loss: 0.2840 - accuracy: 0.8417\n",
            "Epoch 31/50\n",
            "4/4 [==============================] - 0s 14ms/step - loss: 0.3282 - accuracy: 0.8417\n",
            "Epoch 32/50\n",
            "4/4 [==============================] - 0s 17ms/step - loss: 0.2404 - accuracy: 0.8833\n",
            "Epoch 33/50\n",
            "4/4 [==============================] - 0s 16ms/step - loss: 0.2956 - accuracy: 0.8167\n",
            "Epoch 34/50\n",
            "4/4 [==============================] - 0s 18ms/step - loss: 0.2143 - accuracy: 0.9000\n",
            "Epoch 35/50\n",
            "4/4 [==============================] - 0s 18ms/step - loss: 0.2573 - accuracy: 0.8417\n",
            "Epoch 36/50\n",
            "4/4 [==============================] - 0s 17ms/step - loss: 0.4165 - accuracy: 0.8583\n",
            "Epoch 37/50\n",
            "4/4 [==============================] - 0s 19ms/step - loss: 0.1976 - accuracy: 0.8583\n",
            "Epoch 38/50\n",
            "4/4 [==============================] - 0s 20ms/step - loss: 0.2466 - accuracy: 0.9083\n",
            "Epoch 39/50\n",
            "4/4 [==============================] - 0s 19ms/step - loss: 0.2987 - accuracy: 0.8333\n",
            "Epoch 40/50\n",
            "4/4 [==============================] - 0s 15ms/step - loss: 0.2381 - accuracy: 0.8833\n",
            "Epoch 41/50\n",
            "4/4 [==============================] - 0s 14ms/step - loss: 0.2182 - accuracy: 0.8583\n",
            "Epoch 42/50\n",
            "4/4 [==============================] - 0s 16ms/step - loss: 0.2460 - accuracy: 0.8500\n",
            "Epoch 43/50\n",
            "4/4 [==============================] - 0s 15ms/step - loss: 0.2992 - accuracy: 0.8500\n",
            "Epoch 44/50\n",
            "4/4 [==============================] - 0s 17ms/step - loss: 0.2044 - accuracy: 0.8333\n",
            "Epoch 45/50\n",
            "4/4 [==============================] - 0s 17ms/step - loss: 0.2263 - accuracy: 0.8833\n",
            "Epoch 46/50\n",
            "4/4 [==============================] - 0s 18ms/step - loss: 0.1712 - accuracy: 0.8833\n",
            "Epoch 47/50\n",
            "4/4 [==============================] - 0s 15ms/step - loss: 0.2232 - accuracy: 0.8583\n",
            "Epoch 48/50\n",
            "4/4 [==============================] - 0s 16ms/step - loss: 0.2964 - accuracy: 0.8667\n",
            "Epoch 49/50\n",
            "4/4 [==============================] - 0s 15ms/step - loss: 0.1692 - accuracy: 0.9167\n",
            "Epoch 50/50\n",
            "4/4 [==============================] - 0s 15ms/step - loss: 0.1805 - accuracy: 0.9083\n"
          ]
        },
        {
          "output_type": "execute_result",
          "data": {
            "text/plain": [
              "<keras.callbacks.History at 0x7f4b02f01d10>"
            ]
          },
          "metadata": {},
          "execution_count": 28
        }
      ]
    },
    {
      "cell_type": "code",
      "source": [
        "test_loss,test_accuracy=ML.evaluate(x_test,y_test)"
      ],
      "metadata": {
        "colab": {
          "base_uri": "https://localhost:8080/"
        },
        "id": "4oM-rU5epmN4",
        "outputId": "9193e093-2742-4947-cd4a-0c05b6e5ce39"
      },
      "execution_count": 29,
      "outputs": [
        {
          "output_type": "stream",
          "name": "stdout",
          "text": [
            "1/1 [==============================] - 0s 27ms/step - loss: 0.2160 - accuracy: 0.8667\n"
          ]
        }
      ]
    },
    {
      "cell_type": "code",
      "source": [
        "print(test_loss,test_accuracy)"
      ],
      "metadata": {
        "colab": {
          "base_uri": "https://localhost:8080/"
        },
        "id": "yIEYMJVbp7zF",
        "outputId": "711e1cc0-9578-474b-fd0c-821703177c1b"
      },
      "execution_count": 30,
      "outputs": [
        {
          "output_type": "stream",
          "name": "stdout",
          "text": [
            "0.21598078310489655 0.8666666746139526\n"
          ]
        }
      ]
    }
  ]
}