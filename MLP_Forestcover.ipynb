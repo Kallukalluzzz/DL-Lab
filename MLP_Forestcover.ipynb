{
  "nbformat": 4,
  "nbformat_minor": 0,
  "metadata": {
    "colab": {
      "name": "Untitled13.ipynb",
      "provenance": [],
      "collapsed_sections": [],
      "authorship_tag": "ABX9TyMnSh3UsF+/KKeViOtMI8AR",
      "include_colab_link": true
    },
    "kernelspec": {
      "name": "python3",
      "display_name": "Python 3"
    },
    "language_info": {
      "name": "python"
    }
  },
  "cells": [
    {
      "cell_type": "markdown",
      "metadata": {
        "id": "view-in-github",
        "colab_type": "text"
      },
      "source": [
        "<a href=\"https://colab.research.google.com/github/Kallukalluzzz/DL-Lab/blob/main/MLP_Forestcover.ipynb\" target=\"_parent\"><img src=\"https://colab.research.google.com/assets/colab-badge.svg\" alt=\"Open In Colab\"/></a>"
      ]
    },
    {
      "cell_type": "code",
      "execution_count": 1,
      "metadata": {
        "id": "U1uG0EbW5Rk2"
      },
      "outputs": [],
      "source": [
        "import pandas as pd\n",
        "from sklearn.datasets import fetch_covtype"
      ]
    },
    {
      "cell_type": "code",
      "source": [
        "X,y=fetch_covtype(return_X_y=True)\n",
        "y=y-1"
      ],
      "metadata": {
        "id": "nIY0lwtn5if4"
      },
      "execution_count": 2,
      "outputs": []
    },
    {
      "cell_type": "code",
      "source": [
        "from sklearn.model_selection import train_test_split\n",
        "X_train,X_test,y_train,y_test=train_test_split(X,y,test_size=0.2)"
      ],
      "metadata": {
        "id": "WnyEwzqY58Xu"
      },
      "execution_count": 3,
      "outputs": []
    },
    {
      "cell_type": "code",
      "source": [
        "from sklearn.neural_network import MLPClassifier"
      ],
      "metadata": {
        "id": "RGUnE_Rz6CVK"
      },
      "execution_count": 4,
      "outputs": []
    },
    {
      "cell_type": "code",
      "source": [
        "clf = MLPClassifier(random_state=5, max_iter=400).fit(X_train, y_train)\n",
        "clf"
      ],
      "metadata": {
        "id": "vPpiYSH96DdB"
      },
      "execution_count": null,
      "outputs": []
    },
    {
      "cell_type": "code",
      "source": [
        "res1=clf.predict(xtest)"
      ],
      "metadata": {
        "id": "JmAez4uv6Jyp"
      },
      "execution_count": null,
      "outputs": []
    },
    {
      "cell_type": "code",
      "source": [
        "from sklearn.metrics import accuracy_score\n",
        "score=accuracy_score(ytest,res1)\n",
        "print(score*100)"
      ],
      "metadata": {
        "id": "UuWCatDd6PI-"
      },
      "execution_count": null,
      "outputs": []
    }
  ]
}