{
  "nbformat": 4,
  "nbformat_minor": 0,
  "metadata": {
    "colab": {
      "name": "Regressions.ipynb",
      "provenance": [],
      "include_colab_link": true
    },
    "kernelspec": {
      "name": "python3",
      "display_name": "Python 3"
    },
    "language_info": {
      "name": "python"
    }
  },
  "cells": [
    {
      "cell_type": "markdown",
      "metadata": {
        "id": "view-in-github",
        "colab_type": "text"
      },
      "source": [
        "<a href=\"https://colab.research.google.com/github/Kallukalluzzz/DL-Lab/blob/main/Regressions.ipynb\" target=\"_parent\"><img src=\"https://colab.research.google.com/assets/colab-badge.svg\" alt=\"Open In Colab\"/></a>"
      ]
    },
    {
      "cell_type": "markdown",
      "source": [
        "## Univariate Regression"
      ],
      "metadata": {
        "id": "OYohSav0_DZ6"
      }
    },
    {
      "cell_type": "code",
      "execution_count": 2,
      "metadata": {
        "id": "KA3QU3G29QBY"
      },
      "outputs": [],
      "source": [
        "import numpy as np\n",
        "import pandas as pd\n",
        "import seaborn as sns\n",
        "import matplotlib.pyplot as plt\n",
        "from sklearn import preprocessing, svm\n",
        "from sklearn.model_selection import train_test_split\n",
        "from sklearn.linear_model import LinearRegression, Lasso, Ridge\n",
        "from sklearn.datasets import make_regression\n",
        "import sklearn.metrics as metrics"
      ]
    },
    {
      "cell_type": "code",
      "source": [
        "X, y = make_regression(n_features=1, n_targets=1, noise=12)"
      ],
      "metadata": {
        "id": "K880eG1L9okL"
      },
      "execution_count": 49,
      "outputs": []
    },
    {
      "cell_type": "code",
      "source": [
        "X_train, X_test, y_train, y_test = train_test_split(X, y, test_size=0.33, random_state=42)"
      ],
      "metadata": {
        "id": "QzlbdAMy95km"
      },
      "execution_count": 50,
      "outputs": []
    },
    {
      "cell_type": "code",
      "source": [
        "X_train.shape"
      ],
      "metadata": {
        "colab": {
          "base_uri": "https://localhost:8080/"
        },
        "id": "_zMWE_xV7Up3",
        "outputId": "82242285-9065-492d-a3c7-e30fc5cc56df"
      },
      "execution_count": 51,
      "outputs": [
        {
          "output_type": "execute_result",
          "data": {
            "text/plain": [
              "(67, 1)"
            ]
          },
          "metadata": {},
          "execution_count": 51
        }
      ]
    },
    {
      "cell_type": "code",
      "source": [
        "y_train.shape"
      ],
      "metadata": {
        "colab": {
          "base_uri": "https://localhost:8080/"
        },
        "id": "s0SmU1ar7Z0I",
        "outputId": "b2926530-d3b8-429a-e0e9-c100d26ad623"
      },
      "execution_count": 52,
      "outputs": [
        {
          "output_type": "execute_result",
          "data": {
            "text/plain": [
              "(67,)"
            ]
          },
          "metadata": {},
          "execution_count": 52
        }
      ]
    },
    {
      "cell_type": "code",
      "source": [
        "X_test.shape"
      ],
      "metadata": {
        "colab": {
          "base_uri": "https://localhost:8080/"
        },
        "id": "Ks3IxhVq7ekv",
        "outputId": "54515405-32c0-4a6f-a4a7-4d2367ee442d"
      },
      "execution_count": 53,
      "outputs": [
        {
          "output_type": "execute_result",
          "data": {
            "text/plain": [
              "(33, 1)"
            ]
          },
          "metadata": {},
          "execution_count": 53
        }
      ]
    },
    {
      "cell_type": "code",
      "source": [
        "y_test.shape"
      ],
      "metadata": {
        "colab": {
          "base_uri": "https://localhost:8080/"
        },
        "id": "tdgjCioA7ijW",
        "outputId": "4ad6d57d-7096-4094-db9b-226979d7a299"
      },
      "execution_count": 54,
      "outputs": [
        {
          "output_type": "execute_result",
          "data": {
            "text/plain": [
              "(33,)"
            ]
          },
          "metadata": {},
          "execution_count": 54
        }
      ]
    },
    {
      "cell_type": "code",
      "source": [
        "lr = LinearRegression()\n",
        "lr.fit(X_train, y_train)\n",
        "print(lr.score(X_test,y_test))"
      ],
      "metadata": {
        "colab": {
          "base_uri": "https://localhost:8080/"
        },
        "id": "yGWWVnMn_gO0",
        "outputId": "7c8d9049-7834-480e-9ea8-d83f27e1e2af"
      },
      "execution_count": 55,
      "outputs": [
        {
          "output_type": "stream",
          "name": "stdout",
          "text": [
            "0.9703221597053523\n"
          ]
        }
      ]
    },
    {
      "cell_type": "code",
      "source": [
        "y_pred = lr.predict(X_test)"
      ],
      "metadata": {
        "id": "sPaH3Qt3_kGe"
      },
      "execution_count": 6,
      "outputs": []
    },
    {
      "cell_type": "code",
      "source": [
        "coef = lr.coef_\n",
        "intercept = lr.intercept_\n",
        "print('coef= ', coef)\n",
        "print('intercept= ', intercept)"
      ],
      "metadata": {
        "colab": {
          "base_uri": "https://localhost:8080/"
        },
        "id": "EhwvuD-S_ngs",
        "outputId": "d29e26e4-c8d4-48f3-c973-3c79f7768454"
      },
      "execution_count": 56,
      "outputs": [
        {
          "output_type": "stream",
          "name": "stdout",
          "text": [
            "coef=  [74.23271521]\n",
            "intercept=  0.9390456242441729\n"
          ]
        }
      ]
    },
    {
      "cell_type": "code",
      "source": [
        "mae = metrics.mean_absolute_error(y_test, y_pred)\n",
        "mse = metrics.mean_squared_error(y_test, y_pred)\n",
        "rmse = np.sqrt(mse) # or mse**(0.5)  \n",
        "r2 = metrics.r2_score(y_test,y_pred)\n",
        "\n",
        "print(\"Results of sklearn.metrics:\")\n",
        "print(\"MAE:\",mae)\n",
        "print(\"MSE:\", mse)\n",
        "print(\"RMSE:\", rmse)\n",
        "print(\"R-Squared:\", r2)"
      ],
      "metadata": {
        "colab": {
          "base_uri": "https://localhost:8080/"
        },
        "id": "-ObyPyWD_rar",
        "outputId": "bfae260a-2eba-4f24-95b2-33c6317ffd4c"
      },
      "execution_count": 57,
      "outputs": [
        {
          "output_type": "stream",
          "name": "stdout",
          "text": [
            "Results of sklearn.metrics:\n",
            "MAE: 120.32689338607594\n",
            "MSE: 26239.94133052524\n",
            "RMSE: 161.98747275800446\n",
            "R-Squared: -3.695437760121413\n"
          ]
        }
      ]
    },
    {
      "cell_type": "code",
      "source": [
        "plt.scatter(y_pred, y_test, color=\"black\")\n",
        "plt.plot(y_pred, y_pred, color=\"blue\", linewidth=3)"
      ],
      "metadata": {
        "colab": {
          "base_uri": "https://localhost:8080/",
          "height": 282
        },
        "id": "TgcKSN7-_vio",
        "outputId": "ad81c609-707a-4dfb-d3a1-5322ce7b1edd"
      },
      "execution_count": 9,
      "outputs": [
        {
          "output_type": "execute_result",
          "data": {
            "text/plain": [
              "[<matplotlib.lines.Line2D at 0x7febc75d9850>]"
            ]
          },
          "metadata": {},
          "execution_count": 9
        },
        {
          "output_type": "display_data",
          "data": {
            "text/plain": [
              "<Figure size 432x288 with 1 Axes>"
            ],
            "image/png": "[encoded data removed]"
          },
          "metadata": {
            "needs_background": "light"
          }
        }
      ]
    },
    {
      "cell_type": "markdown",
      "source": [
        "**Multivariate Regression**"
      ],
      "metadata": {
        "id": "igsGvFoM-6ls"
      }
    },
    {
      "cell_type": "code",
      "source": [
        "X, y = make_regression(n_features=12, n_targets=1, noise=47)"
      ],
      "metadata": {
        "id": "MYik3WN1_zQW"
      },
      "execution_count": 10,
      "outputs": []
    },
    {
      "cell_type": "code",
      "source": [
        "X_train, X_test, y_train, y_test = train_test_split(X, y, test_size=0.33, random_state=42)"
      ],
      "metadata": {
        "id": "akj42SBx-7wx"
      },
      "execution_count": 11,
      "outputs": []
    },
    {
      "cell_type": "code",
      "source": [
        "lr = LinearRegression()\n",
        "lr.fit(X_train, y_train)\n",
        "print(lr.score(X_test,y_test))"
      ],
      "metadata": {
        "colab": {
          "base_uri": "https://localhost:8080/"
        },
        "id": "whlrEuRXAP3h",
        "outputId": "9f2e6903-1416-4f39-aad4-b451bccefd02"
      },
      "execution_count": 58,
      "outputs": [
        {
          "output_type": "stream",
          "name": "stdout",
          "text": [
            "0.9703221597053523\n"
          ]
        }
      ]
    },
    {
      "cell_type": "code",
      "source": [
        "y_pred = lr.predict(X_test)"
      ],
      "metadata": {
        "id": "rEj4l1xXATIi"
      },
      "execution_count": 13,
      "outputs": []
    },
    {
      "cell_type": "code",
      "source": [
        "coef = lr.coef_\n",
        "intercept = lr.intercept_\n",
        "print('coef= ', coef)\n",
        "print('intercept= ', intercept)"
      ],
      "metadata": {
        "colab": {
          "base_uri": "https://localhost:8080/"
        },
        "id": "vWF4QVnjAZTp",
        "outputId": "538ac76e-a9e3-41c3-abf7-63e907ef993b"
      },
      "execution_count": 14,
      "outputs": [
        {
          "output_type": "stream",
          "name": "stdout",
          "text": [
            "coef=  [ 97.93809909  15.18567292  10.51193628  13.21748773  60.79742083\n",
            "   5.73351135  64.40597477  43.11796784   5.67310591 102.80781192\n",
            "  76.48624218  -8.17894294]\n",
            "intercept=  14.544523795588404\n"
          ]
        }
      ]
    },
    {
      "cell_type": "code",
      "source": [
        "mae = metrics.mean_absolute_error(y_test, y_pred)\n",
        "mse = metrics.mean_squared_error(y_test, y_pred)\n",
        "rmse = np.sqrt(mse) # or mse**(0.5)  \n",
        "r2 = metrics.r2_score(y_test,y_pred)\n",
        "\n",
        "print(\"MAE:\",mae)\n",
        "print(\"MSE:\", mse)\n",
        "print(\"RMSE:\", rmse)\n",
        "print(\"R-Squared:\", r2)"
      ],
      "metadata": {
        "colab": {
          "base_uri": "https://localhost:8080/"
        },
        "id": "AhBMv_KfAbqK",
        "outputId": "ac24f5e4-c75b-4274-c2a4-2cfcecbbbeab"
      },
      "execution_count": 15,
      "outputs": [
        {
          "output_type": "stream",
          "name": "stdout",
          "text": [
            "MAE: 38.983751351026605\n",
            "MSE: 2292.110508622955\n",
            "RMSE: 47.87599094142026\n",
            "R-Squared: 0.9014658215924534\n"
          ]
        }
      ]
    },
    {
      "cell_type": "code",
      "source": [
        "y_pred"
      ],
      "metadata": {
        "colab": {
          "base_uri": "https://localhost:8080/"
        },
        "id": "Ulai4dMEAfxJ",
        "outputId": "59d86c17-0434-4c40-8693-691e3c681d68"
      },
      "execution_count": 16,
      "outputs": [
        {
          "output_type": "execute_result",
          "data": {
            "text/plain": [
              "array([-161.51284511,  131.89845598, -136.02770695,  205.98631888,\n",
              "        -31.60608656,   55.80674543,  264.91481134,   36.91472787,\n",
              "        142.49129369,   -4.26955541, -197.82618065, -133.06360063,\n",
              "         94.16566542,   23.02653662,  368.86959032,   42.78377128,\n",
              "        154.44744286, -133.81816379,  -75.64090018,  108.63048994,\n",
              "        -50.8545088 ,  -51.33247656, -172.99857143,  -78.48561552,\n",
              "        -50.35069879, -125.96740525,   67.98163954,  195.93688462,\n",
              "        -39.43607163, -185.49175479,   11.75838639,   88.85240167,\n",
              "         60.22756874])"
            ]
          },
          "metadata": {},
          "execution_count": 16
        }
      ]
    },
    {
      "cell_type": "code",
      "source": [
        "plt.scatter(y_pred, y_test, color=\"black\")\n",
        "plt.plot(y_pred, y_pred, color=\"blue\", linewidth=3)"
      ],
      "metadata": {
        "colab": {
          "base_uri": "https://localhost:8080/",
          "height": 282
        },
        "id": "CL6KvmV2AkAs",
        "outputId": "fffd1c53-1075-4065-d5c8-98050973824d"
      },
      "execution_count": 17,
      "outputs": [
        {
          "output_type": "execute_result",
          "data": {
            "text/plain": [
              "[<matplotlib.lines.Line2D at 0x7febc50cbdd0>]"
            ]
          },
          "metadata": {},
          "execution_count": 17
        },
        {
          "output_type": "display_data",
          "data": {
            "text/plain": [
              "<Figure size 432x288 with 1 Axes>"
            ],
            "image/png": "[encoded data removed]"
          },
          "metadata": {
            "needs_background": "light"
          }
        }
      ]
    },
    {
      "cell_type": "markdown",
      "source": [
        "## Lasso Regression"
      ],
      "metadata": {
        "id": "c1N7XtgAArtY"
      }
    },
    {
      "cell_type": "code",
      "source": [
        "X, y = make_regression(n_features=12, n_targets=1, noise=47)"
      ],
      "metadata": {
        "id": "FofCf3VrAoDN"
      },
      "execution_count": 18,
      "outputs": []
    },
    {
      "cell_type": "code",
      "source": [
        "X_train, X_test, y_train, y_test = train_test_split(X, y, test_size=0.33, random_state=42)"
      ],
      "metadata": {
        "id": "SW-cHNNrAy4N"
      },
      "execution_count": 19,
      "outputs": []
    },
    {
      "cell_type": "code",
      "source": [
        "lr = Lasso()\n",
        "lr.fit(X_train, y_train)\n",
        "print(lr.score(X_test,y_test))"
      ],
      "metadata": {
        "colab": {
          "base_uri": "https://localhost:8080/"
        },
        "id": "sB9wVraYA275",
        "outputId": "abcad5e7-b1fc-44f8-d5ba-8235ac3ebb28"
      },
      "execution_count": 59,
      "outputs": [
        {
          "output_type": "stream",
          "name": "stdout",
          "text": [
            "0.9708757375911581\n"
          ]
        }
      ]
    },
    {
      "cell_type": "code",
      "source": [
        "y_pred = lr.predict(X_test)"
      ],
      "metadata": {
        "id": "Y2yaowAHA6ad"
      },
      "execution_count": 21,
      "outputs": []
    },
    {
      "cell_type": "code",
      "source": [
        "coef = lr.coef_\n",
        "intercept = lr.intercept_\n",
        "print('coef= ', coef)\n",
        "print('intercept= ', intercept)"
      ],
      "metadata": {
        "colab": {
          "base_uri": "https://localhost:8080/"
        },
        "id": "jeJFW-j4A9gz",
        "outputId": "225dc80b-c9d7-4cc2-f9db-44a2b858413a"
      },
      "execution_count": 22,
      "outputs": [
        {
          "output_type": "stream",
          "name": "stdout",
          "text": [
            "coef=  [51.92349813 67.16173383 69.88327316 86.43198965 95.09323696  2.40695116\n",
            " 38.59182159 37.15970871 93.32346834 -0.         14.09560115  8.01589952]\n",
            "intercept=  3.7710649170515005\n"
          ]
        }
      ]
    },
    {
      "cell_type": "code",
      "source": [
        "mae = metrics.mean_absolute_error(y_test, y_pred)\n",
        "mse = metrics.mean_squared_error(y_test, y_pred)\n",
        "rmse = np.sqrt(mse) # or mse**(0.5)  \n",
        "r2 = metrics.r2_score(y_test,y_pred)\n",
        "\n",
        "print(\"MAE:\",mae)\n",
        "print(\"MSE:\", mse)\n",
        "print(\"RMSE:\", rmse)\n",
        "print(\"R-Squared:\", r2)"
      ],
      "metadata": {
        "colab": {
          "base_uri": "https://localhost:8080/"
        },
        "id": "K9k1xe__BAkv",
        "outputId": "7c1cba53-c58b-4d13-964d-41c201d27a44"
      },
      "execution_count": 23,
      "outputs": [
        {
          "output_type": "stream",
          "name": "stdout",
          "text": [
            "MAE: 47.85520034059031\n",
            "MSE: 3331.527033121978\n",
            "RMSE: 57.719381780490146\n",
            "R-Squared: 0.9295368700331141\n"
          ]
        }
      ]
    },
    {
      "cell_type": "code",
      "source": [
        "y_pred"
      ],
      "metadata": {
        "colab": {
          "base_uri": "https://localhost:8080/"
        },
        "id": "bzV29kXWBEOW",
        "outputId": "e18fe21b-5da1-4751-853d-ce8d169eca62"
      },
      "execution_count": 24,
      "outputs": [
        {
          "output_type": "execute_result",
          "data": {
            "text/plain": [
              "array([-413.32612162,  -76.50257906,  -96.2391869 , -107.52974738,\n",
              "        127.83005134,   11.1406208 ,   -0.92278157,  206.93322831,\n",
              "       -113.90130553,  -73.79680448,   25.48543354,  -67.97589392,\n",
              "       -272.59230015, -548.80476972,  237.68442796, -269.25690343,\n",
              "        176.47029011,  142.28468912,  -52.84213192,  -32.48665873,\n",
              "       -594.52114971,   14.51559982,  152.952652  ,    1.86252861,\n",
              "         52.16934626,   92.96213246, -327.01468608, -343.42698726,\n",
              "        -79.31722545,  452.16531647,  -72.07693754,  -94.32557808,\n",
              "       -205.92177229])"
            ]
          },
          "metadata": {},
          "execution_count": 24
        }
      ]
    },
    {
      "cell_type": "code",
      "source": [
        "plt.scatter(y_pred, y_test, color=\"black\")\n",
        "plt.plot(y_pred, y_pred, color=\"blue\", linewidth=3)"
      ],
      "metadata": {
        "colab": {
          "base_uri": "https://localhost:8080/",
          "height": 282
        },
        "id": "zK-TJpjEBJoi",
        "outputId": "6bbad3e4-3544-4e4a-905e-bf22676c1764"
      },
      "execution_count": 25,
      "outputs": [
        {
          "output_type": "execute_result",
          "data": {
            "text/plain": [
              "[<matplotlib.lines.Line2D at 0x7febc5050650>]"
            ]
          },
          "metadata": {},
          "execution_count": 25
        },
        {
          "output_type": "display_data",
          "data": {
            "text/plain": [
              "<Figure size 432x288 with 1 Axes>"
            ],
            "image/png": "[encoded data removed]"
          },
          "metadata": {
            "needs_background": "light"
          }
        }
      ]
    },
    {
      "cell_type": "markdown",
      "source": [
        "## Ridge Regression"
      ],
      "metadata": {
        "id": "sfpfXoumBQ5h"
      }
    },
    {
      "cell_type": "code",
      "source": [
        "X, y = make_regression(n_features=12, n_targets=1, noise=47)"
      ],
      "metadata": {
        "id": "5fs5GzFdBOFi"
      },
      "execution_count": 26,
      "outputs": []
    },
    {
      "cell_type": "code",
      "source": [
        "X_train, X_test, y_train, y_test = train_test_split(X, y, test_size=0.33, random_state=42)"
      ],
      "metadata": {
        "id": "qvxmQjzABVlN"
      },
      "execution_count": 27,
      "outputs": []
    },
    {
      "cell_type": "code",
      "source": [
        "lr = Ridge()\n",
        "lr.fit(X_train, y_train)\n",
        "print(lr.score(X_test,y_test))"
      ],
      "metadata": {
        "colab": {
          "base_uri": "https://localhost:8080/"
        },
        "id": "6lPBBQSiBcye",
        "outputId": "13ac110c-1932-4b22-f330-59fc02329ab4"
      },
      "execution_count": 60,
      "outputs": [
        {
          "output_type": "stream",
          "name": "stdout",
          "text": [
            "0.9709050710931258\n"
          ]
        }
      ]
    },
    {
      "cell_type": "code",
      "source": [
        "y_pred = lr.predict(X_test)"
      ],
      "metadata": {
        "id": "a-dUir5mBsh3"
      },
      "execution_count": 29,
      "outputs": []
    },
    {
      "cell_type": "code",
      "source": [
        "coef = lr.coef_\n",
        "intercept = lr.intercept_\n",
        "print('coef= ', coef)\n",
        "print('intercept= ', intercept)"
      ],
      "metadata": {
        "colab": {
          "base_uri": "https://localhost:8080/"
        },
        "id": "agPEtTm1BuSQ",
        "outputId": "b631a43a-3e44-4bc7-9fe0-bcaf026d3133"
      },
      "execution_count": 30,
      "outputs": [
        {
          "output_type": "stream",
          "name": "stdout",
          "text": [
            "coef=  [92.00646922  1.61420085 43.75420043 23.73663869 30.02614713  0.92084574\n",
            " 42.29039645 61.61674809 31.17233376 15.67476626 41.15542652 19.96673702]\n",
            "intercept=  6.946709430263873\n"
          ]
        }
      ]
    },
    {
      "cell_type": "code",
      "source": [
        "mae = metrics.mean_absolute_error(y_test, y_pred)\n",
        "mse = metrics.mean_squared_error(y_test, y_pred)\n",
        "rmse = np.sqrt(mse) # or mse**(0.5)  \n",
        "r2 = metrics.r2_score(y_test,y_pred)\n",
        "\n",
        "print(\"MAE:\",mae)\n",
        "print(\"MSE:\", mse)\n",
        "print(\"RMSE:\", rmse)\n",
        "print(\"R-Squared:\", r2)"
      ],
      "metadata": {
        "colab": {
          "base_uri": "https://localhost:8080/"
        },
        "id": "N_qObNsfB2Zn",
        "outputId": "82a4e780-1846-4aa9-dd38-611bd0a490b2"
      },
      "execution_count": 31,
      "outputs": [
        {
          "output_type": "stream",
          "name": "stdout",
          "text": [
            "MAE: 38.96388250745741\n",
            "MSE: 2404.5299184303244\n",
            "RMSE: 49.036006346666575\n",
            "R-Squared: 0.8779109011950216\n"
          ]
        }
      ]
    },
    {
      "cell_type": "code",
      "source": [
        "y_pred"
      ],
      "metadata": {
        "colab": {
          "base_uri": "https://localhost:8080/"
        },
        "id": "mAYS7WVKB7kd",
        "outputId": "d4f3bd22-3859-4f95-8101-1db8cd61ba63"
      },
      "execution_count": 32,
      "outputs": [
        {
          "output_type": "execute_result",
          "data": {
            "text/plain": [
              "array([-164.30042262,   44.92670682,    0.30513068,  254.57442197,\n",
              "         37.14649653,  -27.85181015,  227.47334092,  113.4225459 ,\n",
              "         -9.05674811,  -29.61179669,  -80.7100252 ,  182.06626846,\n",
              "        -95.80199032,  -96.92096628,  -64.18296576,  142.07630314,\n",
              "        -95.2120481 ,  -35.62399929,    0.99425824,  187.22967988,\n",
              "         98.59155431, -186.81845062,   43.08228327,   10.3121684 ,\n",
              "         99.05311791,  210.9331388 ,   49.47049678, -214.04707664,\n",
              "         17.59478552, -133.99044883, -194.26067542,  159.29061942,\n",
              "         28.42462581])"
            ]
          },
          "metadata": {},
          "execution_count": 32
        }
      ]
    },
    {
      "cell_type": "code",
      "source": [
        ""
      ],
      "metadata": {
        "id": "kRd4PHHwB4xv"
      },
      "execution_count": null,
      "outputs": []
    },
    {
      "cell_type": "code",
      "source": [
        "plt.scatter(y_pred, y_test, color=\"black\")\n",
        "plt.plot(y_pred, y_pred, color=\"blue\", linewidth=3)"
      ],
      "metadata": {
        "colab": {
          "base_uri": "https://localhost:8080/",
          "height": 286
        },
        "id": "BTP-jV_7B_9p",
        "outputId": "d5a50b80-537c-49e4-9bff-5da377b8e7ed"
      },
      "execution_count": 37,
      "outputs": [
        {
          "output_type": "execute_result",
          "data": {
            "text/plain": [
              "[<matplotlib.lines.Line2D at 0x7febc4c54110>]"
            ]
          },
          "metadata": {},
          "execution_count": 37
        },
        {
          "output_type": "display_data",
          "data": {
            "text/plain": [
              "<Figure size 432x288 with 1 Axes>"
            ],
            "image/png": "[encoded data removed]"
          },
          "metadata": {
            "needs_background": "light"
          }
        }
      ]
    }
  ]
}